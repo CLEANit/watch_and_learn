{
 "cells": [
  {
   "cell_type": "code",
   "execution_count": 1,
   "metadata": {},
   "outputs": [],
   "source": [
    "import numpy as np\n",
    "from matplotlib import pyplot as plt\n",
    "from multiprocessing import Process, Queue, Array\n",
    "import time"
   ]
  },
  {
   "cell_type": "code",
   "execution_count": null,
   "metadata": {},
   "outputs": [],
   "source": []
  },
  {
   "cell_type": "code",
   "execution_count": 2,
   "metadata": {},
   "outputs": [],
   "source": [
    "def dh(shape,arr,i,j,dq=None):\n",
    "    if MODEL ==\"SPINS1\":\n",
    "     return G.dh(arr,i,j)   \n",
    "    y,x = shape\n",
    "    d=arr[i-1][j]\n",
    "    u=arr[(i+1)%y][j]\n",
    "    l=arr[i][j-1]\n",
    "    r=arr[i][(j+1)%x]\n",
    "    if MODEL==\"ISING1\":\n",
    "        return arr[i][j]*(d+u+l+r)*2\n",
    "    if MODEL==\"POTTS1\":\n",
    "        intl = np.asarray([d,u,l,r])-(arr[i][j])\n",
    "        aftr = np.asarray([d,u,l,r])-(arr[i][j]+dq)%Q\n",
    "        return np.sum(np.cos(intl*2*np.pi/Q))-np.sum(np.cos(aftr*2*np.pi/Q))\n",
    "def flipsite(shape):\n",
    "    \"\"\"Spin flip where a random spin in the grid is changed (Potts is still an integer representation)\"\"\"\n",
    "    x,y = shape\n",
    "    x_ = np.random.randint(0,x)\n",
    "    y_ = np.random.randint(0,y)\n",
    "    if MODEL!=\"POTTS1\":\n",
    "        return x_,y_\n",
    "    else:\n",
    "        return x_,y_,np.random.randint(1,Q)\n",
    "def metropolis(x,y,T,iterate = 2500):\n",
    "   \"\"\"Runs a monte carlo simulation with the specified hamiltonian function H\"\"\"\n",
    "   C = np.e**(-1.0/(KB*T))\n",
    "   arr = domain(x,y)\n",
    "   shape=np.shape(arr)\n",
    "   size=np.prod(shape)\n",
    "   m= np.sum(arr)//2+size//2\n",
    "   ms = np.zeros([size+1],dtype=np.int32)\n",
    "   ms[m]=1\n",
    "   for i in range(iterate):\n",
    "       site=flipsite(shape)\n",
    "       dH = dh(shape,arr,*site)\n",
    "       n=np.random.random()\n",
    "       if dH <=0 or n < C**dH:\n",
    "           if MODEL==\"POTTS1\":\n",
    "                arr[site[0]][site[1]]=(arr[site[0]][site[1]]+site[2])%Q\n",
    "           else:\n",
    "               arr[site[0]][site[1]]*=-1\n",
    "           m+= arr[site[0]][site[1]]\n",
    "       if i>2*iterate//5:\n",
    "           ms[m]=ms[m]+1\n",
    "   return ms\n",
    "def errspinsQueue(num1,num2,div,steps,q):\n",
    "   #np.random.seed(seed)\n",
    "   steps = int(steps)\n",
    "   q.put(\"INIT: %d-%d\"%(num1,num2))\n",
    "   x = [z/div for z in range(num1,num2)]\n",
    "   res = [x,[],[]]\n",
    "   for a in x :\n",
    "       eq = metropolis(N,N,a,steps)\n",
    "       n=np.sum(eq)\n",
    "       avg = np.sum([abs(i-N**2//2)*eq[i] for i in range(len(eq))])/n\n",
    "       st_dv = np.power(np.sum([eq[i]*(abs(i-N**2//2)-avg)**2 for i in range(len(eq))])/n,0.5)\n",
    "       res[1]+=[avg]\n",
    "       res[2]+=[st_dv]\n",
    "       q.put(str(a))\n",
    "   q.put(res)\n",
    "def transition(start,end,div,seed,cores=4,steps=1e6):\n",
    "   global q,ps\n",
    "   np.random.seed(seed)\n",
    "   print(\"Begin\")\n",
    "   q = Queue()\n",
    "   ps = []\n",
    "   for idx in range(cores):\n",
    "       delta = end-start\n",
    "       st = start+(delta*idx//cores)\n",
    "       ed = start+(delta*(idx+1)//cores)\n",
    "       ps +=  [Process(target=errspinsQueue, args=(st,ed,div,steps,q))]\n",
    "   print(\"made\")\n",
    "   for p in ps:\n",
    "       p.start()\n",
    "   print(\"started\")\n",
    "   li = []\n",
    "   while len(li) < cores:\n",
    "       n = q.get()\n",
    "       if type(n)!= str:\n",
    "           li += [n]\n",
    "           print('recieved!')\n",
    "       else:\n",
    "           print (n,end = \" \")\n",
    "   for p in ps:\n",
    "       p.join()\n",
    "   L = [[],[],[],seed]\n",
    "   for l in li:\n",
    "       L[0]+=l[0]\n",
    "       L[1]+=l[1]\n",
    "       L[2]+=l[2]\n",
    "   print(L)\n",
    "   errplt(*L)\n",
    "   return L\n"
   ]
  },
  {
   "cell_type": "code",
   "execution_count": 2,
   "metadata": {},
   "outputs": [],
   "source": [
    "def metropolis(x,y,T,H,iterate = 2500):\n",
    "    \"\"\"Runs a monte carlo simulation with the specified hamiltonian function H\"\"\"\n",
    "    m = []\n",
    "    C = np.e**(-1.0/(KB*T))\n",
    "    arr = domain(x,y)\n",
    "    Hi = H(arr)\n",
    "    m+= [metric(arr)]\n",
    "    for i in range(iterate):\n",
    "        arr2 = augment(arr)\n",
    "        Hf = H(arr2)\n",
    "        dH = Hf-Hi\n",
    "        n=np.random.random()\n",
    "        if dH <=0 or n < C**dH:\n",
    "            Hi = Hf\n",
    "            arr = arr2\n",
    "            m+= [metric(arr)]\n",
    "        else:\n",
    "            m+=[m[-1]]\n",
    "    return m\n",
    "def errspinsQueue(num1,num2,div,steps,q,hamiltonian):\n",
    "    #np.random.seed(seed)\n",
    "    steps = int(steps)\n",
    "    q.put(\"INIT: %d-%d\"%(num1,num2))\n",
    "    x = [z/div for z in range(num1,num2)]\n",
    "    res = [x,[],[]]\n",
    "    for a in x :\n",
    "        n = metropolis(N,N,a,hamiltonian,steps)\n",
    "        eq = n[-steps//5:]\n",
    "        avg = np.sum(eq)/len(eq)\n",
    "        st_dv = np.power(np.sum([(x-avg)**2 for x in eq])/len(eq),0.5)\n",
    "        res[1]+=[avg]\n",
    "        res[2]+=[st_dv]\n",
    "        q.put(str(a))\n",
    "    q.put(res)\n",
    "\n",
    "def transition(start,end,div,seed,cores=4,steps=1e6,hamiltonian=H):\n",
    "    np.random.seed(seed)\n",
    "    print(\"Begin\")\n",
    "    q = Queue()\n",
    "    ps = []\n",
    "    for idx in range(cores):\n",
    "        delta = end-start\n",
    "        st = start+(delta*idx//cores)\n",
    "        ed = start+(delta*(idx+1)//cores)\n",
    "        ps +=  [Process(target=errspinsQueue, args=(st,ed,div,steps,q,hamiltonian))]\n",
    "    print(\"made\")\n",
    "    for p in ps:\n",
    "        p.start()\n",
    "    print(\"started\")\n",
    "    li = []\n",
    "    while len(li) < cores:\n",
    "        n = q.get() \n",
    "        if type(n)!= str:\n",
    "            li += [n]\n",
    "            print('recieved!')\n",
    "        else:\n",
    "            print (n,end = \" \")\n",
    "    for p in ps:\n",
    "        p.join()\n",
    "    L = [[],[],[]]\n",
    "    for l in li:\n",
    "        L[0]+=l[0]\n",
    "        L[1]+=l[1]\n",
    "        L[2]+=l[2]\n",
    "    order = sorted([a for a in range(len(L[0]))], key = lambda x: L[0][x])\n",
    "    L = [[L[i][x] for x in order] for i in [0,1,2]]+[seed]\n",
    "    print(L)\n",
    "    errplt(*L)\n",
    "    plt.show()\n",
    "    return L\n"
   ]
  },
  {
   "cell_type": "code",
   "execution_count": 3,
   "metadata": {},
   "outputs": [],
   "source": [
    "def errplt(in_,out,errs,seed,style = \"error\",ylabel=\"avg spin\",**kwargs):\n",
    "    if style==\"error\":\n",
    "        plt.errorbar(in_, out, errs, linestyle='None', marker='.',**kwargs)\n",
    "    elif style == \"dot\":\n",
    "        plt.plot(in_,out,\"o\",**kwargs)\n",
    "    else:\n",
    "        plt.plot(in_,out,**kwargs)\n",
    "    plt.ylabel(ylabel)\n",
    "    plt.xlabel(\"temperature °K [seed:%d]\"%seed)\n",
    "def in_(string):\n",
    "   x = [[],[],[]]\n",
    "   for a in string.split(\"\\n\"):\n",
    "       a=a.split(\"\\t\")\n",
    "       x[0]+=[float(a[0])]\n",
    "       x[1]+=[float(a[1])]\n",
    "       x[2]+=[float(a[2])]\n",
    "   return x\n",
    "def output(a):\n",
    " string = \"\"\n",
    " for i in range(len(a[0])):\n",
    "   str_=\"%f\\t%f\\t%f\"%(a[0][i],a[1][i],a[2][i])\n",
    "   print(str_)\n",
    "   string+=str_+\"\\n\"\n",
    " return string[:-1]"
   ]
  },
  {
   "cell_type": "code",
   "execution_count": null,
   "metadata": {},
   "outputs": [
    {
     "name": "stdout",
     "output_type": "stream",
     "text": [
      "Begin\n",
      "made\n",
      "started\n"
     ]
    }
   ],
   "source": [
    "t = time.time()\n",
    "tr = transition(5,49,10,33,cores=8,steps=1e4)\n",
    "dt = (time.time()-t)\n",
    "#output(tr)\n",
    "print(\"%d:%d\"%(dt//60,int(dt)-60*(dt//60)))\n",
    "def big_graph(runs):\n",
    "    assert runs>=1\n",
    "    t = time.time()\n",
    "    for seed in range(runs):\n",
    "      ordered =transition(5,49,10,seed,cores=8,steps=1e6)[:-1]\n",
    "      if seed==0:\n",
    "        AVGS = np.asarray(ordered)\n",
    "      else:\n",
    "        AVGS+=np.asarray(ordered)\n",
    "    AVGS/=runs\n",
    "    print(\"%d:%d\"%(dt//60,int(dt)-60*(dt//60)))\n",
    "    errplt(AVGS[0],AVGS[1],AVGS[2],0)\n",
    "    output(AVGS)"
   ]
  },
  {
   "cell_type": "code",
   "execution_count": 5,
   "metadata": {},
   "outputs": [
    {
     "name": "stdout",
     "output_type": "stream",
     "text": [
      "Begin\n",
      "made\n",
      "started\n",
      "INIT: 5-10 INIT: 10-16 INIT: 21-27 INIT: 16-21 INIT: 27-32 INIT: 38-43 INIT: 43-49 INIT: 32-38 0.5 1.0 1.6 2.1 3.2 2.7 4.3 3.8 0.6 1.7 1.1 2.2 2.8 3.3 3.9 4.4 1.2 1.8 0.7 2.3 2.9 3.4 4.0 4.5 1.3 0.8 1.9 2.4 3.0 3.5 4.1 4.6 1.4 0.9 recieved!\n",
      "2.0 recieved!\n",
      "2.5 3.1 recieved!\n",
      "3.6 1.5 recieved!\n",
      "4.2 recieved!\n",
      "4.7 2.6 recieved!\n",
      "3.7 recieved!\n",
      "4.8 recieved!\n",
      "[[0.5, 0.6, 0.7, 0.8, 0.9, 1.0, 1.1, 1.2, 1.3, 1.4, 1.5, 1.6, 1.7, 1.8, 1.9, 2.0, 2.1, 2.2, 2.3, 2.4, 2.5, 2.6, 2.7, 2.8, 2.9, 3.0, 3.1, 3.2, 3.3, 3.4, 3.5, 3.6, 3.7, 3.8, 3.9, 4.0, 4.1, 4.2, 4.3, 4.4, 4.5, 4.6, 4.7, 4.8], [1.0, 0.999991328125, 0.999963515625, 0.9998041796875, 0.9996886328125, 0.9991445703125, 0.9983107421875, 0.9966191015625, 0.9947352734375, 0.991849296875, 0.9875412890625, 0.9807989453125, 0.971423203125, 0.9600209375, 0.9343705078125, 0.9241847265625, 0.882679609375, 0.7656529296875, 0.6943394140625, 0.50268765625, 0.3985987890625, 0.2507225, 0.2012678515625, 0.2502813671875, 0.1941551171875, 0.1870443359375, 0.1380133203125, 0.1554606640625, 0.138417734375, 0.126430546875, 0.115726953125, 0.1101923828125, 0.1199219140625, 0.1052621484375, 0.1061088671875, 0.0982641015625, 0.0997302734375, 0.0929488671875, 0.0925295703125, 0.091259609375, 0.083867578125, 0.0899373828125, 0.0834509765625, 0.088645546875], [0.0, 0.00026014192668903733, 0.0005326378413785105, 0.0012212700752162284, 0.0016055890499142643, 0.0026582695100431228, 0.0038643198756704218, 0.005671025407567735, 0.007160462080786979, 0.009127380816000981, 0.013057254172371448, 0.01529569723380085, 0.020093758643411584, 0.0233125916574103, 0.04035464780479638, 0.04077605557942845, 0.059896690773929444, 0.14325144357949185, 0.17883875143380634, 0.2321202638917061, 0.24732320108497777, 0.20930300439093152, 0.1511915778864755, 0.17122476040048942, 0.1427801561045244, 0.1324280218877485, 0.10493002802840533, 0.11181339329422561, 0.10056104722354015, 0.0964273492687921, 0.08585331803643347, 0.08339752766240204, 0.08659435105432664, 0.07717810966649034, 0.07847419097017672, 0.0729621569148917, 0.0758882552454764, 0.0692248557915527, 0.07260641851033145, 0.06873076155144188, 0.06520960022509978, 0.06700423149742475, 0.0651508803357175, 0.06673309164281796], 0]\n"
     ]
    },
    {
     "data": {
      "image/png": "[encoded data removed]",
      "text/plain": [
       "<Figure size 432x288 with 1 Axes>"
      ]
     },
     "metadata": {
      "needs_background": "light"
     },
     "output_type": "display_data"
    },
    {
     "name": "stdout",
     "output_type": "stream",
     "text": [
      "Begin\n",
      "made\n",
      "started\n",
      "INIT: 5-10 INIT: 10-16 INIT: 16-21 INIT: 21-27 INIT: 27-32 INIT: 32-38 INIT: 43-49 INIT: 38-43 1.0 0.5 1.6 2.1 2.7 3.2 4.3 3.8 1.1 0.6 1.7 2.2 2.8 3.3 3.9 4.4 0.7 1.2 1.8 2.3 2.9 3.4 4.0 4.5 0.8 1.3 1.9 2.4 3.0 3.5 0.9 recieved!\n",
      "1.4 4.1 2.0 recieved!\n",
      "4.6 2.5 3.1 recieved!\n",
      "1.5 recieved!\n",
      "3.6 4.2 recieved!\n",
      "4.7 2.6 recieved!\n",
      "3.7 recieved!\n",
      "4.8 recieved!\n",
      "[[0.5, 0.6, 0.7, 0.8, 0.9, 1.0, 1.1, 1.2, 1.3, 1.4, 1.5, 1.6, 1.7, 1.8, 1.9, 2.0, 2.1, 2.2, 2.3, 2.4, 2.5, 2.6, 2.7, 2.8, 2.9, 3.0, 3.1, 3.2, 3.3, 3.4, 3.5, 3.6, 3.7, 3.8, 3.9, 4.0, 4.1, 4.2, 4.3, 4.4, 4.5, 4.6, 4.7, 4.8], [1.0, 1.0, 0.999984609375, 0.9998459375, 0.99974328125, 0.9993884375, 0.99898796875, 0.996150234375, 0.9946142578125, 0.9909656640625, 0.986630703125, 0.9796519921875, 0.97222421875, 0.9512815625, 0.9412299609375, 0.9199762890625, 0.8774398046875, 0.8340275390625, 0.5914921875, 0.495793828125, 0.4058902734375, 0.3348048828125, 0.2362295703125, 0.2089921875, 0.20565578125, 0.17065078125, 0.15739484375, 0.1502494921875, 0.1404145703125, 0.1230702734375, 0.12056375, 0.12811859375, 0.1158991015625, 0.112116015625, 0.0983028515625, 0.0992126953125, 0.0999866015625, 0.091869921875, 0.0994165625, 0.0937993359375, 0.092844140625, 0.0935935546875, 0.0877423046875, 0.09296234375], [0.0, 0.0, 0.0003464136060760452, 0.0012414532421093228, 0.0013979839610215265, 0.002222408976798881, 0.002856741747705931, 0.005664023313980828, 0.007653487660860174, 0.009679859650831839, 0.012241753709359426, 0.015934513244519985, 0.019418254247549158, 0.029309656460224952, 0.03345568542131805, 0.04193366124148548, 0.06558755760030688, 0.08561633416400206, 0.1937787684980103, 0.24875683169794582, 0.19976462511634646, 0.21205218169545598, 0.15358363302804343, 0.14704087811362454, 0.14144987735065256, 0.12623908453499416, 0.11567167977397665, 0.10630854635705787, 0.1036008285859823, 0.09411617405822884, 0.09119144690524365, 0.09507800473993523, 0.08860849815335768, 0.07997012315853931, 0.07246992235180871, 0.0776515495462551, 0.07786291432022631, 0.071045629996471, 0.07815574039655433, 0.07079379334945342, 0.06949340420058925, 0.06936761116311761, 0.06598556410144625, 0.06635850550536286], 1]\n"
     ]
    },
    {
     "data": {
      "image/png": "[encoded data removed]",
      "text/plain": [
       "<Figure size 432x288 with 1 Axes>"
      ]
     },
     "metadata": {
      "needs_background": "light"
     },
     "output_type": "display_data"
    },
    {
     "name": "stdout",
     "output_type": "stream",
     "text": [
      "Begin\n",
      "made\n",
      "started\n",
      "INIT: 5-10 INIT: 16-21 INIT: 21-27 INIT: 27-32 INIT: 10-16 INIT: 32-38 INIT: 38-43 INIT: 43-49 1.0 1.6 0.5 3.8 2.1 2.7 4.3 3.2 1.1 1.7 0.6 3.9 2.2 2.8 4.4 1.2 3.3 0.7 1.8 2.3 4.0 1.3 2.9 4.5 3.4 0.8 1.9 1.4 2.4 4.1 3.0 4.6 0.9 recieved!\n",
      "3.5 2.0 recieved!\n",
      "1.5 recieved!\n",
      "2.5 4.2 recieved!\n",
      "3.1 recieved!\n",
      "4.7 3.6 2.6 recieved!\n",
      "4.8 recieved!\n",
      "3.7 recieved!\n",
      "[[0.5, 0.6, 0.7, 0.8, 0.9, 1.0, 1.1, 1.2, 1.3, 1.4, 1.5, 1.6, 1.7, 1.8, 1.9, 2.0, 2.1, 2.2, 2.3, 2.4, 2.5, 2.6, 2.7, 2.8, 2.9, 3.0, 3.1, 3.2, 3.3, 3.4, 3.5, 3.6, 3.7, 3.8, 3.9, 4.0, 4.1, 4.2, 4.3, 4.4, 4.5, 4.6, 4.7, 4.8], [0.2272193359375, 1.0, 0.99996953125, 0.999907578125, 0.999730234375, 0.9994018359375, 0.998547109375, 0.9973628515625, 0.994525234375, 0.9913595703125, 0.985650078125, 0.9817656640625, 0.9673796875, 0.961550234375, 0.9329507421875, 0.9195218359375, 0.8768778515625, 0.7884558984375, 0.56856203125, 0.513168671875, 0.332955078125, 0.2534496875, 0.2490508984375, 0.2312562109375, 0.15708375, 0.182845625, 0.1713033203125, 0.1450588671875, 0.1316940234375, 0.135865390625, 0.125055, 0.138819609375, 0.117456875, 0.1112707421875, 0.1033433984375, 0.0956771875, 0.0987316015625, 0.0945153125, 0.0916987890625, 0.09112109375, 0.088368359375, 0.0923065234375, 0.09324765625, 0.0901264453125], [0.04326481552430323, 0.0, 0.00048693815279605854, 0.0008446917162249102, 0.001426453803276103, 0.0022655280256051223, 0.0034877817487766645, 0.004973695590365635, 0.007079053674159482, 0.009752629789120977, 0.013695855076736136, 0.014879156662156282, 0.024649898233261656, 0.02426624467865688, 0.0404755181711921, 0.041664378593733876, 0.05818650647122254, 0.10628841109858016, 0.2623750606125149, 0.21090148077192528, 0.2049883787164115, 0.1687738327293664, 0.1674820668008262, 0.15600210029322334, 0.12091040576907428, 0.12764282365669716, 0.11913896269828432, 0.09842779869847182, 0.09867230143377487, 0.09561441641515107, 0.09173615692678275, 0.0989183868355337, 0.09192737769098291, 0.08260259495498197, 0.07683779886137276, 0.07332929152931594, 0.07035438156049142, 0.06966736319140382, 0.07102723101668058, 0.07161102499445764, 0.06695699270365811, 0.06949499884296023, 0.06894915468667354, 0.06771937038508612], 2]\n"
     ]
    },
    {
     "data": {
      "image/png": "[encoded data removed]",
      "text/plain": [
       "<Figure size 432x288 with 1 Axes>"
      ]
     },
     "metadata": {
      "needs_background": "light"
     },
     "output_type": "display_data"
    },
    {
     "name": "stdout",
     "output_type": "stream",
     "text": [
      "Begin\n",
      "made\n",
      "started\n",
      "INIT: 5-10 INIT: 10-16 INIT: 16-21 INIT: 21-27 INIT: 32-38 INIT: 38-43 INIT: 43-49 INIT: 27-32 1.6 1.0 0.5 2.1 2.7 3.2 3.8 4.3 1.7 0.6 1.1 2.2 2.8 3.3 3.9 4.4 1.8 0.7 1.2 2.3 2.9 3.4 4.0 4.5 0.8 1.3 1.9 2.4 3.0 3.5 4.1 0.9 recieved!\n",
      "1.4 2.0 recieved!\n",
      "4.6 2.5 3.1 recieved!\n",
      "1.5 recieved!\n",
      "3.6 4.2 recieved!\n",
      "4.7 2.6 recieved!\n",
      "3.7 recieved!\n",
      "4.8 recieved!\n",
      "[[0.5, 0.6, 0.7, 0.8, 0.9, 1.0, 1.1, 1.2, 1.3, 1.4, 1.5, 1.6, 1.7, 1.8, 1.9, 2.0, 2.1, 2.2, 2.3, 2.4, 2.5, 2.6, 2.7, 2.8, 2.9, 3.0, 3.1, 3.2, 3.3, 3.4, 3.5, 3.6, 3.7, 3.8, 3.9, 4.0, 4.1, 4.2, 4.3, 4.4, 4.5, 4.6, 4.7, 4.8], [0.0092888671875, 1.0, 0.999982265625, 0.9999201953125, 0.9997068359375, 0.9994441796875, 0.99880921875, 0.997582265625, 0.994448828125, 0.991696796875, 0.9865508203125, 0.97890859375, 0.9703422265625, 0.9582555078125, 0.9391976171875, 0.917801484375, 0.8739527734375, 0.8280223046875, 0.7655223828125, 0.5539057421875, 0.413545625, 0.4079508984375, 0.3045340234375, 0.221521640625, 0.174607890625, 0.209780625, 0.1652350390625, 0.1460017578125, 0.12449953125, 0.1361084375, 0.135065546875, 0.117597109375, 0.10466515625, 0.10361359375, 0.1150106640625, 0.099677734375, 0.0916441796875, 0.0930847265625, 0.0936538671875, 0.099593515625, 0.0874504296875, 0.0943509375, 0.087684296875, 0.08735359375], [0.03053714623826026, 0.0, 0.00037180007615768366, 0.0007855605215047262, 0.001612044099928642, 0.0020489521452424536, 0.003061744003468193, 0.004523824189403347, 0.007223874911977399, 0.009925795558763299, 0.012683756675729737, 0.016419525711327987, 0.019303893147442776, 0.03226788878916772, 0.03683009869135804, 0.046044055316872265, 0.06146953588102922, 0.09252157826364316, 0.11073739723760408, 0.2367786050043966, 0.2300201809004688, 0.20605570648130378, 0.20131996962072415, 0.15270940457786844, 0.13053810912836275, 0.14672583896811917, 0.12221986950674006, 0.10936759220153325, 0.09082802094854159, 0.09893240152934367, 0.09539278483679821, 0.08933167625355122, 0.08028464216981328, 0.07652663491453661, 0.08363074077039563, 0.07510053419692711, 0.07263002319527799, 0.06861231046316106, 0.06993283939303625, 0.07135917608593738, 0.06337995905855878, 0.07118111618174378, 0.06480200440492748, 0.06455474697651714], 3]\n"
     ]
    },
    {
     "data": {
      "image/png": "[encoded data removed]",
      "text/plain": [
       "<Figure size 432x288 with 1 Axes>"
      ]
     },
     "metadata": {
      "needs_background": "light"
     },
     "output_type": "display_data"
    },
    {
     "name": "stdout",
     "output_type": "stream",
     "text": [
      "Begin\n",
      "made\n",
      "started\n",
      "INIT: 5-10 INIT: 10-16 INIT: 16-21 INIT: 21-27 INIT: 27-32 INIT: 38-43 INIT: 32-38 INIT: 43-49 1.0 0.5 1.6 2.1 2.7 3.2 3.8 4.3 1.1 0.6 1.7 2.2 2.8 3.3 3.9 4.4 1.2 0.7 1.8 2.3 2.9 3.4 4.0 4.5 1.3 0.8 1.9 2.4 3.0 3.5 0.9 recieved!\n",
      "4.1 1.4 4.6 2.0 recieved!\n",
      "2.5 3.1 recieved!\n",
      "3.6 1.5 recieved!\n",
      "4.2 recieved!\n",
      "4.7 2.6 recieved!\n",
      "3.7 recieved!\n",
      "4.8 recieved!\n",
      "[[0.5, 0.6, 0.7, 0.8, 0.9, 1.0, 1.1, 1.2, 1.3, 1.4, 1.5, 1.6, 1.7, 1.8, 1.9, 2.0, 2.1, 2.2, 2.3, 2.4, 2.5, 2.6, 2.7, 2.8, 2.9, 3.0, 3.1, 3.2, 3.3, 3.4, 3.5, 3.6, 3.7, 3.8, 3.9, 4.0, 4.1, 4.2, 4.3, 4.4, 4.5, 4.6, 4.7, 4.8], [1.0, 1.0, 0.999905859375, 0.9998773046875, 0.9996876953125, 0.9991759375, 0.9984815234375, 0.99687109375, 0.9950204296875, 0.9910601953125, 0.98703796875, 0.9783438671875, 0.968809765625, 0.959560078125, 0.9300925, 0.9162786328125, 0.8626471484375, 0.81357390625, 0.602351875, 0.494647890625, 0.388580703125, 0.281815546875, 0.2379082421875, 0.2199565625, 0.17691109375, 0.1563726171875, 0.1551758203125, 0.133045703125, 0.1150840625, 0.129401484375, 0.1312716015625, 0.121840234375, 0.110529609375, 0.1168603515625, 0.0984427734375, 0.0949209375, 0.095280234375, 0.1001703125, 0.0930203125, 0.089607734375, 0.09484734375, 0.09089609375, 0.0859856640625, 0.08801375], [0.0, 0.0, 0.0009011439364979989, 0.001113064753483272, 0.0016303060789532057, 0.0027763955352162538, 0.0038426640899308956, 0.005408032073969784, 0.007184762393789541, 0.009314596925247049, 0.0124340900544993, 0.01700236613203673, 0.021449547733972, 0.023886448580212723, 0.04753301343909896, 0.047885793985390564, 0.07332342463209658, 0.1083275274115161, 0.22106334277961698, 0.24480528887540576, 0.23270299947055162, 0.19459623815429342, 0.16672958618115913, 0.1464614207611913, 0.1332206653259826, 0.10772321332991783, 0.10860578567660453, 0.10300646270254112, 0.08765070024153845, 0.09544164908785435, 0.09631792428589597, 0.09721534537464883, 0.08069079199836852, 0.09312741892188459, 0.07341170779800564, 0.0704117727950698, 0.0720374967393267, 0.07777977818201187, 0.07455304501491603, 0.06837842473672757, 0.07093272070061327, 0.0662197131490759, 0.062172382050964176, 0.0652468464979702], 4]\n"
     ]
    },
    {
     "data": {
      "image/png": "[encoded data removed]",
      "text/plain": [
       "<Figure size 432x288 with 1 Axes>"
      ]
     },
     "metadata": {
      "needs_background": "light"
     },
     "output_type": "display_data"
    },
    {
     "name": "stdout",
     "output_type": "stream",
     "text": [
      "Begin\n",
      "made\n",
      "started\n",
      "INIT: 10-16 INIT: 16-21 INIT: 32-38 INIT: 21-27 INIT: 5-10 INIT: 27-32 INIT: 38-43 INIT: 43-49 0.5 1.6 2.7 2.1 3.2 1.0 4.3 3.8 0.6 1.7 1.1 2.2 2.8 3.3 3.9 4.4 0.7 1.8 1.2 3.4 2.3 2.9 4.0 0.8 1.9 1.3 4.5 3.5 2.4 3.0 4.1 0.9 recieved!\n",
      "1.4 2.0 recieved!\n",
      "4.6 2.5 3.6 3.1 recieved!\n",
      "1.5 recieved!\n",
      "4.2 recieved!\n",
      "4.7 2.6 recieved!\n",
      "3.7 recieved!\n",
      "4.8 recieved!\n",
      "[[0.5, 0.6, 0.7, 0.8, 0.9, 1.0, 1.1, 1.2, 1.3, 1.4, 1.5, 1.6, 1.7, 1.8, 1.9, 2.0, 2.1, 2.2, 2.3, 2.4, 2.5, 2.6, 2.7, 2.8, 2.9, 3.0, 3.1, 3.2, 3.3, 3.4, 3.5, 3.6, 3.7, 3.8, 3.9, 4.0, 4.1, 4.2, 4.3, 4.4, 4.5, 4.6, 4.7, 4.8], [1.0, 0.9999950390625, 0.9999883984375, 0.9999062890625, 0.99966171875, 0.9992328125, 0.9984101171875, 0.9971555859375, 0.994992890625, 0.9906905078125, 0.9864111328125, 0.9783095703125, 0.967541640625, 0.9593237109375, 0.9361660546875, 0.9120612890625, 0.869283984375, 0.79580234375, 0.781012734375, 0.4763373828125, 0.4619680859375, 0.3160319921875, 0.2581322265625, 0.1902580078125, 0.186129140625, 0.1819680859375, 0.15803875, 0.140633671875, 0.1323760546875, 0.1244331640625, 0.13050265625, 0.1247212890625, 0.10535890625, 0.1080426171875, 0.111671875, 0.0975825390625, 0.098031328125, 0.0990569921875, 0.0899169921875, 0.0956030859375, 0.0909617578125, 0.0896959375, 0.0848712890625, 0.0896901953125], [0.0, 0.0001968062837357361, 0.00030083651835973737, 0.0008504910107764934, 0.0016334498980182825, 0.002473328922127271, 0.0036099390368188127, 0.005009799435040639, 0.006749224003698471, 0.010020513297922678, 0.012520441316803377, 0.015925521807303517, 0.02528566912172485, 0.027364362655709004, 0.03827602096379962, 0.0466558285103035, 0.06976044925750643, 0.09916017547271824, 0.09690830062196559, 0.2788935390459383, 0.18396514353986998, 0.19400163616174357, 0.17896290044412683, 0.1429299721893036, 0.14031669116946083, 0.12289733736654176, 0.11544438155161965, 0.10739814759769263, 0.10054388353339787, 0.08827536995488776, 0.09980562626894601, 0.09421676520711281, 0.0802249463165855, 0.08239640061117763, 0.0870982770396823, 0.07435179726897918, 0.07459179482011466, 0.07655275101474616, 0.07033275841377035, 0.07309420823224014, 0.06491586302590743, 0.06884527845344247, 0.06265281102936474, 0.06722889063052485], 5]\n"
     ]
    },
    {
     "data": {
      "image/png": "[encoded data removed]",
      "text/plain": [
       "<Figure size 432x288 with 1 Axes>"
      ]
     },
     "metadata": {
      "needs_background": "light"
     },
     "output_type": "display_data"
    },
    {
     "name": "stdout",
     "output_type": "stream",
     "text": [
      "Begin\n",
      "made\n",
      "started\n",
      "INIT: 16-21 INIT: 10-16 INIT: 21-27 INIT: 5-10 INIT: 27-32 INIT: 32-38 INIT: 38-43 INIT: 43-49 1.6 2.7 1.0 3.8 0.5 3.2 4.3 2.1 1.7 1.1 2.8 0.6 4.4 3.9 3.3 2.2 1.2 0.7 1.8 2.9 2.3 4.5 4.0 3.4 1.3 0.8 1.9 3.0 2.4 4.6 1.4 2.0 recieved!\n",
      "3.5 4.1 0.9 recieved!\n",
      "2.5 3.1 recieved!\n",
      "1.5 recieved!\n",
      "4.7 3.6 4.2 recieved!\n",
      "2.6 recieved!\n",
      "4.8 recieved!\n",
      "3.7 recieved!\n",
      "[[0.5, 0.6, 0.7, 0.8, 0.9, 1.0, 1.1, 1.2, 1.3, 1.4, 1.5, 1.6, 1.7, 1.8, 1.9, 2.0, 2.1, 2.2, 2.3, 2.4, 2.5, 2.6, 2.7, 2.8, 2.9, 3.0, 3.1, 3.2, 3.3, 3.4, 3.5, 3.6, 3.7, 3.8, 3.9, 4.0, 4.1, 4.2, 4.3, 4.4, 4.5, 4.6, 4.7, 4.8], [1.0, 1.0, 0.999979140625, 0.999903671875, 0.999711875, 0.9992961328125, 0.9985884765625, 0.9972569140625, 0.9953997265625, 0.99212265625, 0.98666375, 0.978903359375, 0.9711019921875, 0.955423203125, 0.939189296875, 0.9150829296875, 0.8914319140625, 0.746600625, 0.664896015625, 0.5024219921875, 0.3708623828125, 0.27790484375, 0.260222109375, 0.242345, 0.1788447265625, 0.1878852734375, 0.163167109375, 0.1459253125, 0.1323933203125, 0.127334296875, 0.1290519140625, 0.113917109375, 0.124549765625, 0.105782265625, 0.1077040625, 0.104040390625, 0.099375703125, 0.0961947265625, 0.09732375, 0.0883378125, 0.092505546875, 0.0902680078125, 0.0913621875, 0.08516546875], [0.0, 0.0, 0.00040314855036587867, 0.0008621394138400614, 0.0016241709423579773, 0.0023485353618036262, 0.0035471808132807293, 0.004837087509508795, 0.006649480964195678, 0.009091854096557309, 0.013172844433483228, 0.015889119011839897, 0.02081988139647343, 0.028213536871276264, 0.039200564280827674, 0.04531011222276533, 0.05020376400686963, 0.1887609440680692, 0.22232846585895172, 0.26808448390203315, 0.2287017928829098, 0.18415235363309482, 0.16509243329627, 0.16346688639494011, 0.14549625016653484, 0.13729049047130326, 0.12851715295156946, 0.11482918146498287, 0.10997305693119534, 0.09066768409394133, 0.09520204997827952, 0.08570935827516832, 0.0912711504220207, 0.07815557588513602, 0.08279293524253274, 0.07846579699642968, 0.07194097701804099, 0.0734519072238943, 0.07379824901722136, 0.06599298963937737, 0.07221383562150453, 0.07002451918120205, 0.0661719968409445, 0.06514357200528996], 6]\n"
     ]
    },
    {
     "data": {
      "image/png": "[encoded data removed]",
      "text/plain": [
       "<Figure size 432x288 with 1 Axes>"
      ]
     },
     "metadata": {
      "needs_background": "light"
     },
     "output_type": "display_data"
    },
    {
     "name": "stdout",
     "output_type": "stream",
     "text": [
      "Begin\n",
      "made\n",
      "started\n",
      "INIT: 5-10 INIT: 10-16 INIT: 16-21 INIT: 21-27 INIT: 27-32 INIT: 32-38 INIT: 38-43 INIT: 43-49 0.5 1.0 1.6 4.3 2.1 2.7 3.2 3.8 1.1 0.6 1.7 2.2 3.3 2.8 4.4 3.9 0.7 1.8 1.2 2.3 2.9 3.4 4.5 1.9 1.3 0.8 4.0 2.4 3.0 1.4 3.5 2.0 recieved!\n",
      "0.9 recieved!\n",
      "4.6 4.1 2.5 1.5 recieved!\n",
      "3.1 recieved!\n",
      "3.6 4.7 4.2 recieved!\n",
      "2.6 recieved!\n",
      "3.7 recieved!\n",
      "4.8 recieved!\n",
      "[[0.5, 0.6, 0.7, 0.8, 0.9, 1.0, 1.1, 1.2, 1.3, 1.4, 1.5, 1.6, 1.7, 1.8, 1.9, 2.0, 2.1, 2.2, 2.3, 2.4, 2.5, 2.6, 2.7, 2.8, 2.9, 3.0, 3.1, 3.2, 3.3, 3.4, 3.5, 3.6, 3.7, 3.8, 3.9, 4.0, 4.1, 4.2, 4.3, 4.4, 4.5, 4.6, 4.7, 4.8], [1.0, 1.0, 0.99998796875, 0.999932578125, 0.99969703125, 0.9992795703125, 0.998224140625, 0.9969855859375, 0.9952696484375, 0.9916903515625, 0.9872448046875, 0.9811342578125, 0.96933578125, 0.95741546875, 0.937411015625, 0.913075234375, 0.867973125, 0.7945468359375, 0.6379710546875, 0.6109262109375, 0.3239992578125, 0.3301401171875, 0.29601890625, 0.2063224609375, 0.19024671875, 0.1549275, 0.1616252734375, 0.144261328125, 0.1377173828125, 0.136440703125, 0.124631171875, 0.1182978125, 0.1150194140625, 0.1106075390625, 0.108714609375, 0.1033070703125, 0.0907004296875, 0.09642171875, 0.096952578125, 0.0961640234375, 0.0966205859375, 0.0951721484375, 0.07978484375, 0.086543515625], [0.0, 0.0, 0.0003063484774704087, 0.000722625552557467, 0.0015083611291393181, 0.002628896310519379, 0.004111558978079314, 0.00520958821065984, 0.006469075110598118, 0.009426504313254732, 0.012026962501506117, 0.015546744494927675, 0.020042797835950286, 0.025249223243293022, 0.03751612630787184, 0.048346070857184245, 0.08908443660984644, 0.12632926957678936, 0.23387598902358214, 0.2021766323803583, 0.19567251517586712, 0.20779442392833578, 0.21140857875651733, 0.15736442984414953, 0.13642269541821442, 0.11125115329282828, 0.1160983876825334, 0.10154451953142965, 0.09959074297844146, 0.10078922368889595, 0.09344212507362591, 0.09484728354774699, 0.0841695597970788, 0.08003354521490626, 0.08263416258791048, 0.0789388739322171, 0.06899405623821583, 0.07380235565461916, 0.07023784552183093, 0.0683705468951195, 0.07279289340064143, 0.0701419843247475, 0.05893406419577591, 0.06604196169138701], 7]\n"
     ]
    },
    {
     "data": {
      "image/png": "[encoded data removed]",
      "text/plain": [
       "<Figure size 432x288 with 1 Axes>"
      ]
     },
     "metadata": {
      "needs_background": "light"
     },
     "output_type": "display_data"
    },
    {
     "name": "stdout",
     "output_type": "stream",
     "text": [
      "Begin\n",
      "made\n",
      "started\n",
      "INIT: 10-16 INIT: 5-10 INIT: 16-21 INIT: 27-32 INIT: 32-38 INIT: 21-27 INIT: 38-43 INIT: 43-49 0.5 1.0 2.1 1.6 3.2 3.8 2.7 4.3 0.6 1.7 1.1 2.2 3.3 4.4 2.8 3.9 0.7 1.8 2.3 1.2 3.4 4.5 2.9 4.0 0.8 1.9 1.3 2.4 3.5 4.6 2.0 recieved!\n",
      "3.0 4.1 0.9 recieved!\n",
      "1.4 2.5 3.6 4.7 1.5 recieved!\n",
      "3.1 recieved!\n",
      "4.2 recieved!\n",
      "2.6 recieved!\n",
      "3.7 recieved!\n",
      "4.8 recieved!\n",
      "[[0.5, 0.6, 0.7, 0.8, 0.9, 1.0, 1.1, 1.2, 1.3, 1.4, 1.5, 1.6, 1.7, 1.8, 1.9, 2.0, 2.1, 2.2, 2.3, 2.4, 2.5, 2.6, 2.7, 2.8, 2.9, 3.0, 3.1, 3.2, 3.3, 3.4, 3.5, 3.6, 3.7, 3.8, 3.9, 4.0, 4.1, 4.2, 4.3, 4.4, 4.5, 4.6, 4.7, 4.8], [0.185401171875, 1.0, 0.99999859375, 0.9998628125, 0.9997576171875, 0.999370625, 0.9986001171875, 0.9968890625, 0.994804375, 0.9910604296875, 0.9861360546875, 0.9787867578125, 0.9699525, 0.9558259765625, 0.938345078125, 0.9107895703125, 0.8890321484375, 0.814037109375, 0.64363234375, 0.667250234375, 0.395299453125, 0.2636873828125, 0.229796484375, 0.221431328125, 0.1811840625, 0.1875883203125, 0.162400234375, 0.1470744921875, 0.15797796875, 0.1320134765625, 0.127006953125, 0.12323296875, 0.1090330859375, 0.1105391796875, 0.11090203125, 0.1025701953125, 0.10734640625, 0.0931101171875, 0.094577421875, 0.09165703125, 0.0907948046875, 0.0896130078125, 0.0856558984375, 0.088242265625], [0.06294223773902115, 0.0, 0.00010480625260898077, 0.0010261368980763479, 0.0013947544327491271, 0.002201962326184874, 0.003382169538483892, 0.005293490576214219, 0.006889773714421795, 0.00932723054290634, 0.012263666936102983, 0.017027895424675622, 0.023296527382550766, 0.029491467524712458, 0.03525750977176914, 0.050684708992893256, 0.05814615285611119, 0.1123530424262091, 0.20520390208386471, 0.17507112490173568, 0.2272948671151384, 0.174739746763887, 0.1654156705981548, 0.14584933534005057, 0.12428933105995876, 0.1250619761390005, 0.12309370114139577, 0.09937170388222681, 0.11172860244132303, 0.09240615119585645, 0.08749772511269216, 0.09185442099444963, 0.08219942568270676, 0.07972638432801586, 0.08125946286105867, 0.07377546396904984, 0.08047361434190105, 0.07053330632030905, 0.0717722571845214, 0.06830176125262043, 0.06566561270746668, 0.06564271881506382, 0.06603750828034326, 0.0689075516723975], 8]\n"
     ]
    },
    {
     "data": {
      "image/png": "[encoded data removed]",
      "text/plain": [
       "<Figure size 432x288 with 1 Axes>"
      ]
     },
     "metadata": {
      "needs_background": "light"
     },
     "output_type": "display_data"
    },
    {
     "name": "stdout",
     "output_type": "stream",
     "text": [
      "Begin\n",
      "made\n",
      "started\n",
      "INIT: 10-16 INIT: 5-10 INIT: 16-21 INIT: 21-27 INIT: 27-32 INIT: 38-43 INIT: 32-38 INIT: 43-49 1.6 1.0 0.5 2.7 4.3 2.1 3.2 3.8 1.1 1.7 0.6 2.8 4.4 3.3 2.2 3.9 1.2 1.8 0.7 2.9 4.5 3.4 2.3 1.3 4.0 1.9 0.8 3.0 3.5 4.6 2.0 recieved!\n",
      "2.4 0.9 recieved!\n",
      "1.4 4.1 3.1 recieved!\n",
      "3.6 2.5 1.5 recieved!\n",
      "4.7 4.2 recieved!\n",
      "2.6 recieved!\n",
      "3.7 recieved!\n",
      "4.8 recieved!\n",
      "[[0.5, 0.6, 0.7, 0.8, 0.9, 1.0, 1.1, 1.2, 1.3, 1.4, 1.5, 1.6, 1.7, 1.8, 1.9, 2.0, 2.1, 2.2, 2.3, 2.4, 2.5, 2.6, 2.7, 2.8, 2.9, 3.0, 3.1, 3.2, 3.3, 3.4, 3.5, 3.6, 3.7, 3.8, 3.9, 4.0, 4.1, 4.2, 4.3, 4.4, 4.5, 4.6, 4.7, 4.8], [1.0, 0.96834375, 0.9999992578125, 0.9999520703125, 0.9998176953125, 0.999544453125, 0.9984975390625, 0.99715234375, 0.9944898828125, 0.99117015625, 0.987275546875, 0.9794468359375, 0.969870625, 0.9596073046875, 0.9366656640625, 0.9059948046875, 0.8515298046875, 0.756206484375, 0.664962578125, 0.520178359375, 0.3625394140625, 0.32682640625, 0.2963701171875, 0.226513671875, 0.1983528515625, 0.155851171875, 0.15297421875, 0.1373333984375, 0.131415, 0.1217214453125, 0.1317156640625, 0.109535078125, 0.1039765625, 0.1027803125, 0.1069575, 0.100453515625, 0.0983112890625, 0.092306875, 0.096794453125, 0.093116953125, 0.0904843359375, 0.0945863671875, 0.088601875, 0.081868046875], [0.0, 0.10112674729543461, 7.614321375844891e-05, 0.0006100437924033834, 0.0014114590539834222, 0.0018915278045280575, 0.003492545255505699, 0.005026417941172017, 0.007444513020161951, 0.009258332499900343, 0.011943466755445328, 0.016888774853817175, 0.021089155990475887, 0.025209177180582656, 0.04063554537709784, 0.05783940885469934, 0.11433293270035627, 0.18650649235448818, 0.18606114367470916, 0.24150647307586337, 0.22802002796053136, 0.22177269606006286, 0.1698977871952249, 0.15661828490503737, 0.1402302239990567, 0.11728407580359439, 0.11804233205758337, 0.10984859248871333, 0.09549558873258396, 0.09321699547125736, 0.09438422652667917, 0.08314219092089593, 0.07991152219420258, 0.07419365177013652, 0.08299394806508296, 0.07566948112272588, 0.07620942584673564, 0.06781947892227617, 0.06981981540044695, 0.06796011266019845, 0.06661780951941074, 0.0693314695862295, 0.06551075049240487, 0.06283527922222756], 9]\n"
     ]
    },
    {
     "data": {
      "image/png": "[encoded data removed]",
      "text/plain": [
       "<Figure size 432x288 with 1 Axes>"
      ]
     },
     "metadata": {
      "needs_background": "light"
     },
     "output_type": "display_data"
    },
    {
     "ename": "TypeError",
     "evalue": "unsupported operand type(s) for /: 'list' and 'int'",
     "output_type": "error",
     "traceback": [
      "\u001b[0;31m---------------------------------------------------------------------------\u001b[0m",
      "\u001b[0;31mTypeError\u001b[0m                                 Traceback (most recent call last)",
      "\u001b[0;32m<ipython-input-5-101478db318c>\u001b[0m in \u001b[0;36m<module>\u001b[0;34m\u001b[0m\n\u001b[1;32m      2\u001b[0m \u001b[0mMODEL\u001b[0m\u001b[0;34m=\u001b[0m\u001b[0;34m\"ISING1\"\u001b[0m\u001b[0;34m\u001b[0m\u001b[0;34m\u001b[0m\u001b[0m\n\u001b[1;32m      3\u001b[0m \u001b[0mN\u001b[0m\u001b[0;34m=\u001b[0m\u001b[0;36m16\u001b[0m\u001b[0;34m\u001b[0m\u001b[0;34m\u001b[0m\u001b[0m\n\u001b[0;32m----> 4\u001b[0;31m \u001b[0mbig_graph\u001b[0m\u001b[0;34m(\u001b[0m\u001b[0;36m10\u001b[0m\u001b[0;34m)\u001b[0m\u001b[0;34m\u001b[0m\u001b[0;34m\u001b[0m\u001b[0m\n\u001b[0m",
      "\u001b[0;32m<ipython-input-4-06ec2d42bec7>\u001b[0m in \u001b[0;36mbig_graph\u001b[0;34m(runs)\u001b[0m\n\u001b[1;32m     13\u001b[0m       \u001b[0;32melse\u001b[0m\u001b[0;34m:\u001b[0m\u001b[0;34m\u001b[0m\u001b[0;34m\u001b[0m\u001b[0m\n\u001b[1;32m     14\u001b[0m         \u001b[0mAVGS\u001b[0m\u001b[0;34m+=\u001b[0m\u001b[0mnp\u001b[0m\u001b[0;34m.\u001b[0m\u001b[0masarray\u001b[0m\u001b[0;34m(\u001b[0m\u001b[0mordered\u001b[0m\u001b[0;34m)\u001b[0m\u001b[0;34m\u001b[0m\u001b[0;34m\u001b[0m\u001b[0m\n\u001b[0;32m---> 15\u001b[0;31m     \u001b[0mAVGS\u001b[0m\u001b[0;34m/=\u001b[0m\u001b[0mruns\u001b[0m\u001b[0;34m\u001b[0m\u001b[0;34m\u001b[0m\u001b[0m\n\u001b[0m\u001b[1;32m     16\u001b[0m     \u001b[0mprint\u001b[0m\u001b[0;34m(\u001b[0m\u001b[0;34m\"%d:%d\"\u001b[0m\u001b[0;34m%\u001b[0m\u001b[0;34m(\u001b[0m\u001b[0mdt\u001b[0m\u001b[0;34m//\u001b[0m\u001b[0;36m60\u001b[0m\u001b[0;34m,\u001b[0m\u001b[0mint\u001b[0m\u001b[0;34m(\u001b[0m\u001b[0mdt\u001b[0m\u001b[0;34m)\u001b[0m\u001b[0;34m-\u001b[0m\u001b[0;36m60\u001b[0m\u001b[0;34m*\u001b[0m\u001b[0;34m(\u001b[0m\u001b[0mdt\u001b[0m\u001b[0;34m//\u001b[0m\u001b[0;36m60\u001b[0m\u001b[0;34m)\u001b[0m\u001b[0;34m)\u001b[0m\u001b[0;34m)\u001b[0m\u001b[0;34m\u001b[0m\u001b[0;34m\u001b[0m\u001b[0m\n\u001b[1;32m     17\u001b[0m     \u001b[0merrplt\u001b[0m\u001b[0;34m(\u001b[0m\u001b[0mAVGS\u001b[0m\u001b[0;34m[\u001b[0m\u001b[0;36m0\u001b[0m\u001b[0;34m]\u001b[0m\u001b[0;34m,\u001b[0m\u001b[0mAVGS\u001b[0m\u001b[0;34m[\u001b[0m\u001b[0;36m1\u001b[0m\u001b[0;34m]\u001b[0m\u001b[0;34m,\u001b[0m\u001b[0mAVGS\u001b[0m\u001b[0;34m[\u001b[0m\u001b[0;36m2\u001b[0m\u001b[0;34m]\u001b[0m\u001b[0;34m,\u001b[0m\u001b[0;36m0\u001b[0m\u001b[0;34m)\u001b[0m\u001b[0;34m\u001b[0m\u001b[0;34m\u001b[0m\u001b[0m\n",
      "\u001b[0;31mTypeError\u001b[0m: unsupported operand type(s) for /: 'list' and 'int'"
     ]
    }
   ],
   "source": [
    "Q=2\n",
    "MODEL=\"ISING1\"\n",
    "N=16\n",
    "big_graph(10)"
   ]
  },
  {
   "cell_type": "code",
   "execution_count": null,
   "metadata": {},
   "outputs": [],
   "source": []
  },
  {
   "cell_type": "code",
   "execution_count": null,
   "metadata": {},
   "outputs": [],
   "source": []
  },
  {
   "cell_type": "code",
   "execution_count": null,
   "metadata": {},
   "outputs": [],
   "source": []
  }
 ],
 "metadata": {
  "colab": {
   "collapsed_sections": [],
   "name": "Reference Curves.ipynb",
   "provenance": [],
   "version": "0.3.2"
  },
  "kernelspec": {
   "display_name": "Python 3",
   "language": "python",
   "name": "python3"
  },
  "language_info": {
   "codemirror_mode": {
    "name": "ipython",
    "version": 3
   },
   "file_extension": ".py",
   "mimetype": "text/x-python",
   "name": "python",
   "nbconvert_exporter": "python",
   "pygments_lexer": "ipython3",
   "version": "3.5.5"
  }
 },
 "nbformat": 4,
 "nbformat_minor": 1
}
