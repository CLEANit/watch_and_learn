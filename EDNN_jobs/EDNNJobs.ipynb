{
 "cells": [
  {
   "cell_type": "code",
   "execution_count": 2,
   "metadata": {},
   "outputs": [],
   "source": [
    "import os\n",
    "class Job():\n",
    "    def __init__(self,START=0,END=60,MODEL=\"ISING1\",load=False,**kwargs):\n",
    "        \"\"\"Start and end (epoch), the model, and load (if it loads a previos ednn model) must be specified\"\"\"\n",
    "        self.START=START\n",
    "        self.END=END\n",
    "        self.MODEL=MODEL\n",
    "        self.load=\"-l\" if load else \"\"\n",
    "        self.kwargs=kwargs\n",
    "    def create_file(self,file_name=\"RNNew.sh\"):\n",
    "        \"\"\"Creates bash script to run the ednn with the parameters specified on initialization\"\"\"\n",
    "        self.fn = file_name\n",
    "        fil = open(self.fn,\"w\")\n",
    "        fil.write(\"#!/bin/bash\\n#SBATCH --time=24:00:00\\n#SBATCH --partition=bumblebee\\n#SBATCH --gres=gpu:1\\n\")\n",
    "        fil.write(\"source activate tensorflow\\nmodule load cudnn/7.0-9.0\\n\")\n",
    "        fil.write(\"python EDNN.py %s %s %s %s\"%(self.MODEL,self.START,self.END,self.load)+ self.__kstring())\n",
    "        fil.close()\n",
    "    def __kstring(self):\n",
    "        \"\"\"Turns a dictionary into a command line argument strings\"\"\"\n",
    "        return \"\".join([\" %s=%s\"%(a,self.kwargs[a]) for a in self.kwargs])\n",
    "    def run(self,dependency=None,dtype=\"afterok\"):\n",
    "        if dependency==None:\n",
    "            a = os.popen(\"sbatch %s\"%self.fn).read()\n",
    "        else:\n",
    "            a = os.popen(\"sbatch --dependency=\"+dtype+\":%s %s\"%(dependency.id,self.fn)).read()\n",
    "        self.id = a.split(\" \")[-1].strip()\n",
    "        assert self.id.isdigit(), a\n",
    "        return self.id"
   ]
  },
  {
   "cell_type": "code",
   "execution_count": 3,
   "metadata": {},
   "outputs": [
    {
     "name": "stdout",
     "output_type": "stream",
     "text": [
      "82692\n",
      "82693\n"
     ]
    }
   ],
   "source": [
    "def jrange(n,m,jo=None):\n",
    "    \"\"\"Breaks up an ednn job into gropus of 15 epochs\"\"\"\n",
    "    num=int(n/15+0.94)\n",
    "    for a in range(num):\n",
    "        s,e = a*15,a*15+15 if (a+1)*15<n else n\n",
    "        jc = Job(s,e,MODEL=m,load=a!=0)\n",
    "        jc.create_file(\"jobs/%s.sh\"%(m.lower()[:-1]+str(a)))\n",
    "        print(jc.run(jo))\n",
    "        jo = jc\n",
    "    return jc\n",
    "#j = jrange(60,\"ISING1\")\n",
    "jo=Job()\n",
    "jo.id=\"82667\"\n",
    "j2 = jrange(30,\"POTTS1\",jo=jo)"
   ]
  },
  {
   "cell_type": "code",
   "execution_count": 13,
   "metadata": {},
   "outputs": [
    {
     "data": {
      "text/plain": [
       "0.9333333333333333"
      ]
     },
     "execution_count": 13,
     "metadata": {},
     "output_type": "execute_result"
    }
   ],
   "source": [
    "14/15\n"
   ]
  },
  {
   "cell_type": "code",
   "execution_count": null,
   "metadata": {},
   "outputs": [],
   "source": []
  }
 ],
 "metadata": {
  "kernelspec": {
   "display_name": "Python 3",
   "language": "python",
   "name": "python3"
  },
  "language_info": {
   "codemirror_mode": {
    "name": "ipython",
    "version": 3
   },
   "file_extension": ".py",
   "mimetype": "text/x-python",
   "name": "python",
   "nbconvert_exporter": "python",
   "pygments_lexer": "ipython3",
   "version": "3.5.5"
  }
 },
 "nbformat": 4,
 "nbformat_minor": 2
}
