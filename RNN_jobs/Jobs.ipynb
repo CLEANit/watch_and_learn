{
 "cells": [
  {
   "cell_type": "code",
   "execution_count": 2,
   "metadata": {},
   "outputs": [],
   "source": [
    "import os\n",
    "class Job():\n",
    "    def __init__(self,DIR=\"big/\",FLATTEN=\"SNAKE\",MODEL=\"ISING1\",**kwargs):\n",
    "        \"\"\"Pass all the arguments you want different then default for your rnn to be run\n",
    "        the default subdirectory is big/ and default rnn is a snake-flattened ising model\"\"\"\n",
    "        self.DIR=DIR\n",
    "        self.FLATTEN=FLATTEN\n",
    "        self.MODEL=MODEL\n",
    "        self.kwargs=kwargs\n",
    "    def create_file(self,file_name=\"RNNew.sh\"):\n",
    "        \"\"\"makes the bash script to run the rnn\"\"\"\n",
    "        self.fn = file_name\n",
    "        fil = open(self.fn,\"w\")\n",
    "        fil.write(\"#!/bin/bash\\n#SBATCH --time=24:00:00\\n#SBATCH --partition=bumblebee\\n#SBATCH --gres=gpu:1\\n\")\n",
    "        fil.write(\"source activate tensorflow\\nmodule load cudnn/7.0-9.0\\n\")\n",
    "        fil.write(\"python RNN_MODELS.py %s %s %s\"%(self.DIR,self.FLATTEN,self.MODEL)+ self.__kstring())\n",
    "        fil.close()\n",
    "    def __kstring(self):\n",
    "        \"\"\"Dictionary arguments to command line\"\"\"\n",
    "        return \"\".join([\" %s=%s\"%(a,self.kwargs[a]) for a in self.kwargs])\n",
    "    def run(self,dependency=None,dtype=\"afterok\"):\n",
    "        \"\"\"runs the script, can even set dependency (a different job object) and dtype (default afterok)\"\"\"\n",
    "        if dependency==None:\n",
    "            a = os.popen(\"sbatch %s\"%self.fn).read()\n",
    "        else:\n",
    "            a = os.popen(\"sbatch --dependency=\"+dtype+\":%s %s\"%(dependency.id,self.fn)).read()\n",
    "        self.id = a.split(\" \")[-1].strip()\n",
    "        assert self.id.isdigit(), a\n",
    "        return self.id"
   ]
  },
  {
   "cell_type": "code",
   "execution_count": 3,
   "metadata": {},
   "outputs": [
    {
     "name": "stdout",
     "output_type": "stream",
     "text": [
      "82640\n"
     ]
    }
   ],
   "source": [
    "#DROPOUT\n",
    "j1 = Job(DIR=\"drop/2\",FLATTEN= \"SPIRAL\", hidden_size=378, DSIZE=512, RUNS=0, EPOCHS=8,keep_prob=0.9)\n",
    "j1.create_file(\"drop/2SPISING.sh\")\n",
    "print(j1.run())"
   ]
  },
  {
   "cell_type": "code",
   "execution_count": 3,
   "metadata": {},
   "outputs": [
    {
     "name": "stdout",
     "output_type": "stream",
     "text": [
      "82668\n"
     ]
    }
   ],
   "source": [
    "#SPINGLASS 420 DROPOUT\n",
    "j2 = Job(DIR=\"drop/2BSP\",FLATTEN= \"SPIRAL\",MODEL=\"SPINS1\", hidden_size=378, DSIZE=512, RUNS=0, EPOCHS=30,seed=420,device='/gpu:0',keep_prob=0.9)\n",
    "j2.create_file(\"drop/2BSPSPINS.sh\")\n",
    "print(j2.run())"
   ]
  },
  {
   "cell_type": "code",
   "execution_count": 4,
   "metadata": {},
   "outputs": [
    {
     "name": "stdout",
     "output_type": "stream",
     "text": [
      "82653\n",
      "82654\n",
      "82655\n"
     ]
    }
   ],
   "source": [
    "\n",
    "#j1 = Job(DIR=\"drop/2SP\",FLATTEN= \"SPIRAL\",MODEL=\"POTTS1\", DSIZE=512, RUNS=2, EPOCHS=0,keep_prob=0.9)\n",
    "#j1.create_file(\"drop/2SPPOTTS0.sh\")\n",
    "#j1.run()\n",
    "j3 = Job(DIR=\"drop/2SP\",FLATTEN= \"SPIRAL\",MODEL=\"POTTS1\", DSIZE=512, RUNS=0, EPOCHS=15,keep_prob=0.9)\n",
    "j3.create_file(\"drop/2SPPOTTS1.sh\")\n",
    "print(j3.run())\n",
    "j4 = Job(DIR=\"drop/2SP\",FLATTEN= \"SPIRAL\",MODEL=\"POTTS1\", DSIZE=512, RUNS=0, EPOCHS=15,keep_prob=0.9)\n",
    "j4.create_file(\"drop/2SPPOTTS2.sh\")\n",
    "print(j4.run(j3))\n",
    "j5 = Job(DIR=\"drop/2SP\",FLATTEN= \"SPIRAL\",MODEL=\"POTTS1\", DSIZE=512, RUNS=0, EPOCHS=20,keep_prob=0.9)\n",
    "j5.create_file(\"drop/2SPPOTTS3.sh\")\n",
    "print(j5.run(j4))"
   ]
  },
  {
   "cell_type": "code",
   "execution_count": null,
   "metadata": {},
   "outputs": [],
   "source": []
  },
  {
   "cell_type": "code",
   "execution_count": null,
   "metadata": {},
   "outputs": [],
   "source": []
  }
 ],
 "metadata": {
  "kernelspec": {
   "display_name": "Python 3",
   "language": "python",
   "name": "python3"
  },
  "language_info": {
   "codemirror_mode": {
    "name": "ipython",
    "version": 3
   },
   "file_extension": ".py",
   "mimetype": "text/x-python",
   "name": "python",
   "nbconvert_exporter": "python",
   "pygments_lexer": "ipython3",
   "version": "3.5.5"
  }
 },
 "nbformat": 4,
 "nbformat_minor": 2
}
